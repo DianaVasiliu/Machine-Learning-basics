{
 "cells": [
  {
   "cell_type": "code",
   "execution_count": 1,
   "metadata": {
    "collapsed": true
   },
   "outputs": [],
   "source": [
    "import numpy as np"
   ]
  },
  {
   "cell_type": "raw",
   "source": [
    "\n",
    "MULTIDIMENSIONAL ARRAYS\n"
   ],
   "metadata": {
    "collapsed": false
   }
  },
  {
   "cell_type": "raw",
   "source": [
    "Creating array out of list"
   ],
   "metadata": {
    "collapsed": false
   }
  },
  {
   "cell_type": "code",
   "execution_count": 2,
   "outputs": [
    {
     "name": "stdout",
     "output_type": "stream",
     "text": [
      "[1 2 3]\n",
      "<class 'numpy.ndarray'>\n",
      "int32\n",
      "(3,)\n",
      "1\n"
     ]
    }
   ],
   "source": [
    "a = np.array([1, 2, 3])\n",
    "print(a)\n",
    "\n",
    "# a's type is numpy.ndarray (n-dimensional array)\n",
    "print(type(a))\n",
    "\n",
    "# the data type of the a's elements\n",
    "print(a.dtype)\n",
    "\n",
    "# a's shape (a 1-dimensional array of shape (3,) - 3 elements on one row)\n",
    "print(a.shape)\n",
    "\n",
    "# the first element of a\n",
    "# a can be indexed as a list\n",
    "print(a[0])"
   ],
   "metadata": {
    "collapsed": false,
    "pycharm": {
     "name": "#%%\n"
    }
   }
  },
  {
   "cell_type": "code",
   "execution_count": 3,
   "outputs": [
    {
     "name": "stdout",
     "output_type": "stream",
     "text": [
      "(2, 3)\n",
      "3\n",
      "3\n"
     ]
    }
   ],
   "source": [
    "b = np.array([[1, 2, 3], [4, 5, 6]])\n",
    "\n",
    "# b's shape is (2, 3) - 2 rows, 3 elements each\n",
    "print(b.shape)\n",
    "\n",
    "# b can be indexed as a normal list\n",
    "print(b[0][2])\n",
    "\n",
    "# specific indexing - equivalent with b[0][2]\n",
    "print(b[0, 2])"
   ],
   "metadata": {
    "collapsed": false,
    "pycharm": {
     "name": "#%%\n"
    }
   }
  },
  {
   "cell_type": "code",
   "execution_count": 4,
   "outputs": [
    {
     "name": "stdout",
     "output_type": "stream",
     "text": [
      "<class 'numpy.ndarray'>\n",
      "(2, 2)\n",
      "[[1 2]\n",
      " [3 4]]\n"
     ]
    }
   ],
   "source": [
    "# transforms any input data in ndarray\n",
    "c = np.asarray([(1, 2), (3, 4)])\n",
    "\n",
    "print(type(c))\n",
    "print(c.shape)\n",
    "print(c)"
   ],
   "metadata": {
    "collapsed": false,
    "pycharm": {
     "name": "#%%\n"
    }
   }
  },
  {
   "cell_type": "raw",
   "source": [
    "Creating array using numpy functions"
   ],
   "metadata": {
    "collapsed": false
   }
  },
  {
   "cell_type": "code",
   "execution_count": 5,
   "outputs": [
    {
     "name": "stdout",
     "output_type": "stream",
     "text": [
      "[[0. 0.]\n",
      " [0. 0.]\n",
      " [0. 0.]]\n"
     ]
    }
   ],
   "source": [
    "# creating an ndarray of a given shape full of 0\n",
    "zero_array = np.zeros((3, 2))\n",
    "print(zero_array)"
   ],
   "metadata": {
    "collapsed": false,
    "pycharm": {
     "name": "#%%\n"
    }
   }
  },
  {
   "cell_type": "code",
   "execution_count": 6,
   "outputs": [
    {
     "name": "stdout",
     "output_type": "stream",
     "text": [
      "[[1. 1.]\n",
      " [1. 1.]]\n"
     ]
    }
   ],
   "source": [
    "# creating an ndarray of a given shape full of 1\n",
    "ones_array = np.ones((2, 2))\n",
    "print(ones_array)"
   ],
   "metadata": {
    "collapsed": false,
    "pycharm": {
     "name": "#%%\n"
    }
   }
  },
  {
   "cell_type": "code",
   "execution_count": 7,
   "outputs": [
    {
     "name": "stdout",
     "output_type": "stream",
     "text": [
      "[[8 8]\n",
      " [8 8]]\n"
     ]
    }
   ],
   "source": [
    "# creating an ndarray of a given shape full of a given value\n",
    "constant_array = np.full((2, 2), 8)\n",
    "print(constant_array)"
   ],
   "metadata": {
    "collapsed": false,
    "pycharm": {
     "name": "#%%\n"
    }
   }
  },
  {
   "cell_type": "code",
   "execution_count": 8,
   "outputs": [
    {
     "name": "stdout",
     "output_type": "stream",
     "text": [
      "[[1. 0. 0.]\n",
      " [0. 1. 0.]\n",
      " [0. 0. 1.]]\n"
     ]
    }
   ],
   "source": [
    "# creates the identity matrix of the given size\n",
    "identity_matrix = np.eye(3)\n",
    "print(identity_matrix)"
   ],
   "metadata": {
    "collapsed": false,
    "pycharm": {
     "name": "#%%\n"
    }
   }
  },
  {
   "cell_type": "code",
   "execution_count": 9,
   "outputs": [
    {
     "name": "stdout",
     "output_type": "stream",
     "text": [
      "[[0.44280401 0.19620149]]\n"
     ]
    }
   ],
   "source": [
    "# creates a ndarray with random values\n",
    "# evenly distributed between [0, 1)\n",
    "random_array = np.random.random((1, 2))\n",
    "print(random_array)"
   ],
   "metadata": {
    "collapsed": false,
    "pycharm": {
     "name": "#%%\n"
    }
   }
  },
  {
   "cell_type": "code",
   "execution_count": 10,
   "outputs": [
    {
     "name": "stdout",
     "output_type": "stream",
     "text": [
      "[[0.87222566 1.01352021 0.91363714 1.05911727 0.96514352 1.18474232]\n",
      " [0.85525028 1.15754103 1.01616265 1.05008284 1.04050419 0.92990581]\n",
      " [0.99028055 1.05284509 1.04760604 0.86324846 0.85307817 0.93088194]]\n"
     ]
    }
   ],
   "source": [
    "mu, sigma = 1, 0.1\n",
    "# creates a ndarray with random values of\n",
    "# Gaussian distribution with mean mu and standard deviation sigma\n",
    "gaussian_random = np.random.normal(mu, sigma, (3, 6))\n",
    "print(gaussian_random)"
   ],
   "metadata": {
    "collapsed": false,
    "pycharm": {
     "name": "#%%\n"
    }
   }
  },
  {
   "cell_type": "code",
   "execution_count": 11,
   "outputs": [
    {
     "name": "stdout",
     "output_type": "stream",
     "text": [
      "[0 1 2 3 4]\n"
     ]
    }
   ],
   "source": [
    "# creates a ndarray of the first n natural values\n",
    "first_5 = np.arange(5)\n",
    "print(first_5)#%%\n",
    "\n"
   ],
   "metadata": {
    "collapsed": false,
    "pycharm": {
     "name": "#%%\n"
    }
   }
  }
 ],
 "metadata": {
  "kernelspec": {
   "display_name": "Python 3",
   "language": "python",
   "name": "python3"
  },
  "language_info": {
   "codemirror_mode": {
    "name": "ipython",
    "version": 2
   },
   "file_extension": ".py",
   "mimetype": "text/x-python",
   "name": "python",
   "nbconvert_exporter": "python",
   "pygments_lexer": "ipython2",
   "version": "2.7.6"
  }
 },
 "nbformat": 4,
 "nbformat_minor": 0
}