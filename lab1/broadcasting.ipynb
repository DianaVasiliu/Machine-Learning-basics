{
 "cells": [
  {
   "cell_type": "code",
   "execution_count": 1,
   "metadata": {
    "pycharm": {
     "name": "#%%\n"
    }
   },
   "outputs": [],
   "source": [
    "import numpy as np"
   ]
  },
  {
   "cell_type": "code",
   "execution_count": 2,
   "metadata": {
    "pycharm": {
     "name": "#%%\n"
    }
   },
   "outputs": [],
   "source": [
    "m = np.array([[1, 2, 3], [4, 5, 6], [7, 8, 9], [10, 11, 12]])\n",
    "v = np.array([1, 0, 1])"
   ]
  },
  {
   "cell_type": "code",
   "execution_count": 3,
   "metadata": {
    "pycharm": {
     "name": "#%%\n"
    }
   },
   "outputs": [
    {
     "name": "stdout",
     "output_type": "stream",
     "text": [
      "[[ 2  2  4]\n",
      " [ 5  5  7]\n",
      " [ 8  8 10]\n",
      " [11 11 13]]\n"
     ]
    }
   ],
   "source": [
    "# adding each element of an array (v) to each row of a matrix (m)\n",
    "y = m + v\n",
    "print(y)"
   ]
  },
  {
   "cell_type": "markdown",
   "metadata": {
    "pycharm": {
     "name": "#%% md\n"
    }
   },
   "source": [
    "## Broadcasting rules:\n",
    "1. if the arrays don't have the same dimensions, then the smaller array\n",
    "   is extended by one dimension, until they have the same dimensions\n",
    "        a.shape = (3, 4)\n",
    "        b.shape = (6,)\n",
    "        => b is extended to dimension (6, 1)\n",
    "\n",
    "2. two arrays are COMPATIBLE on one dimension\n",
    "   if they have the same length on that dimension\n",
    "   or if one of them has length 1\n",
    "        a.shape = (3, 4)\n",
    "        b.shape = (6, 1)\n",
    "        c.shape = (3, 5)\n",
    "        => a and c are compatible on the first dimension\n",
    "           a and b are compatible on the second dimension\n",
    "\n",
    "3. broadcasting can be applied on two arrays only if\n",
    "   they are compatible on all their dimensions\n",
    "\n",
    "4. at broadcasting, each array acts like they have the maximum dimension\n",
    "   of all arrays, on all their dimensions\n",
    "        a.shape = (3, 4)\n",
    "        b.shape = (3, 1)\n",
    "        => they both act like they are (3, 4)\n",
    "   and b acts like it's copied along that dimension"
   ]
  }
 ],
 "metadata": {
  "kernelspec": {
   "display_name": "Python 3",
   "language": "python",
   "name": "python3"
  },
  "language_info": {
   "codemirror_mode": {
    "name": "ipython",
    "version": 3
   },
   "file_extension": ".py",
   "mimetype": "text/x-python",
   "name": "python",
   "nbconvert_exporter": "python",
   "pygments_lexer": "ipython3",
   "version": "3.8.5"
  }
 },
 "nbformat": 4,
 "nbformat_minor": 1
}
