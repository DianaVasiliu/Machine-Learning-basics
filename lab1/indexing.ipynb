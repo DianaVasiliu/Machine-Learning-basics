{
 "cells": [
  {
   "cell_type": "code",
   "execution_count": 1,
   "outputs": [],
   "source": [
    "import numpy as np"
   ],
   "metadata": {
    "collapsed": false,
    "pycharm": {
     "name": "#%%\n"
    }
   }
  },
  {
   "cell_type": "raw",
   "metadata": {
    "collapsed": true,
    "pycharm": {
     "name": "#%% raw\n"
    }
   },
   "source": [
    "Common slicing\n"
   ]
  },
  {
   "cell_type": "code",
   "execution_count": 2,
   "outputs": [
    {
     "name": "stdout",
     "output_type": "stream",
     "text": [
      "[[ 1  2  3]\n",
      " [ 5  6  7]\n",
      " [ 9 10 11]]\n",
      "Pay attention to modifications!\n",
      "1\n",
      "100\n",
      "Let's repair this bug\n",
      "100\n",
      "1\n"
     ]
    }
   ],
   "source": [
    "array = np.array([[1, 2, 3, 4], [5, 6, 7, 8], [9, 10, 11, 12]])\n",
    "# getting all rows (:) and the first 3 elements on each row ([0:3])\n",
    "array_slice = array[:, 0:3]\n",
    "print(array_slice)\n",
    "\n",
    "# modifying the slice also modifies the initial array\n",
    "print(\"Pay attention to modifications!\")\n",
    "print(array[0][0])\n",
    "array_slice[0][0] = 100\n",
    "print(array[0][0])\n",
    "\n",
    "print(\"Let's repair this bug\")\n",
    "array[0][0] = 1\n",
    "slice_copy = np.copy(array[:, 0:3])\n",
    "slice_copy[0][0] = 100\n",
    "print(slice_copy[0][0])\n",
    "print(array[0][0])"
   ],
   "metadata": {
    "collapsed": false,
    "pycharm": {
     "name": "#%%\n"
    }
   }
  },
  {
   "cell_type": "code",
   "execution_count": 3,
   "outputs": [
    {
     "name": "stdout",
     "output_type": "stream",
     "text": [
      "[[ 9 10 11 12]]\n",
      "[ 9 10 11 12]\n"
     ]
    }
   ],
   "source": [
    "# if one index is an integer, the slice dimension is smaller than the original\n",
    "slice1 = array[2:3, :]\n",
    "print(slice1)\n",
    "slice2 = array[2, :]\n",
    "print(slice2)"
   ],
   "metadata": {
    "collapsed": false,
    "pycharm": {
     "name": "#%%\n"
    }
   }
  },
  {
   "cell_type": "code",
   "execution_count": 4,
   "outputs": [
    {
     "name": "stdout",
     "output_type": "stream",
     "text": [
      "[ 1  2  3  4  5  6  7  8  9 10 11 12]\n"
     ]
    }
   ],
   "source": [
    "# creating 1D array from ndarray\n",
    "array_1d = np.ravel(array)\n",
    "print(array_1d)"
   ],
   "metadata": {
    "collapsed": false,
    "pycharm": {
     "name": "#%%\n"
    }
   }
  },
  {
   "cell_type": "code",
   "execution_count": 5,
   "outputs": [
    {
     "name": "stdout",
     "output_type": "stream",
     "text": [
      "[[ 1  2  3  4  5  6]\n",
      " [ 7  8  9 10 11 12]]\n"
     ]
    }
   ],
   "source": [
    "# reshaping ndarray\n",
    "# all the elements must fit in the new shape\n",
    "reshaped_array = np.reshape(array, (2, 6))\n",
    "print(reshaped_array)"
   ],
   "metadata": {
    "collapsed": false,
    "pycharm": {
     "name": "#%%\n"
    }
   }
  },
  {
   "cell_type": "raw",
   "source": [
    "Integer lists slicing\n"
   ],
   "metadata": {
    "collapsed": false
   }
  },
  {
   "cell_type": "code",
   "execution_count": 6,
   "outputs": [
    {
     "name": "stdout",
     "output_type": "stream",
     "text": [
      "[[ 1  2  3  4]\n",
      " [ 5  6  7  8]\n",
      " [ 9 10 11 12]]\n",
      "[2 4]\n"
     ]
    }
   ],
   "source": [
    "# printing the specified positions in the array\n",
    "# printing elements on (0, 1) and (0, 3)\n",
    "# printing elements on positions obtained by\n",
    "# calculating the cartesian product of the lists\n",
    "print(array)\n",
    "print(array[[0, 0], [1, 3]])"
   ],
   "metadata": {
    "collapsed": false,
    "pycharm": {
     "name": "#%%\n"
    }
   }
  },
  {
   "cell_type": "raw",
   "source": [
    "Boolean value slicing\n"
   ],
   "metadata": {
    "collapsed": false
   }
  },
  {
   "cell_type": "code",
   "execution_count": 7,
   "outputs": [
    {
     "name": "stdout",
     "output_type": "stream",
     "text": [
      "[[False False False False]\n",
      " [False False False False]\n",
      " [False False  True  True]]\n"
     ]
    }
   ],
   "source": [
    "# creates a ndarray of the same shape of the original array\n",
    "# where each value is transformed in True or False\n",
    "# according to the given condition\n",
    "# in this case, bool_idx[i][j] is True if array[i][j] > 10\n",
    "# and False otherwise\n",
    "bool_idx = (array > 10)\n",
    "print(bool_idx)"
   ],
   "metadata": {
    "collapsed": false,
    "pycharm": {
     "name": "#%%\n"
    }
   }
  },
  {
   "cell_type": "code",
   "execution_count": 8,
   "outputs": [
    {
     "name": "stdout",
     "output_type": "stream",
     "text": [
      "[11 12]\n",
      "[11 12]\n"
     ]
    }
   ],
   "source": [
    "# another ways to use the boolean value slicing\n",
    "print(array[bool_idx])\n",
    "print(array[array > 10])"
   ],
   "metadata": {
    "collapsed": false,
    "pycharm": {
     "name": "#%%\n"
    }
   }
  }
 ],
 "metadata": {
  "kernelspec": {
   "display_name": "Python 3",
   "language": "python",
   "name": "python3"
  },
  "language_info": {
   "codemirror_mode": {
    "name": "ipython",
    "version": 2
   },
   "file_extension": ".py",
   "mimetype": "text/x-python",
   "name": "python",
   "nbconvert_exporter": "python",
   "pygments_lexer": "ipython2",
   "version": "2.7.6"
  }
 },
 "nbformat": 4,
 "nbformat_minor": 0
}