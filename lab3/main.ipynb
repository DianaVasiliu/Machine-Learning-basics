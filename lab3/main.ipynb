{
 "cells": [
  {
   "cell_type": "raw",
   "metadata": {
    "collapsed": true,
    "pycharm": {
     "name": "#%% raw\n"
    }
   },
   "source": [
    "EXERCISES\n",
    "1. Create the class KnnClassifier, with the following constructor:\n",
    "        def __init__(self, train_images, train_labels):\n",
    "            self.train_images = train_images\n",
    "            self.train_labels = train_labels\n",
    "\n",
    "2. Define method classify_image(self, test_image, num_neighbours=3, metric='l2')\n",
    "   which classifies the test_image with the \"nearest k neighbours\" method.\n",
    "   The neighbour number is the parameter num_neighbours, and the distance\n",
    "   can be either L1 or L2, given by the parameter metric.\n",
    "   Note: L1(X, Y) = sum(|Xi - Yi|) with i from 1 to n\n",
    "         L2(X, Y) = sqrt(sum( (Xi - Yi)^2 )) with i from 1 to n\n",
    "         the variables train_images and test_image, the value of an example\n",
    "         are stocked on one row:\n",
    "                train_images.shape = (num_samples, num_features)\n",
    "                test_image.shape = (1, num_features)\n",
    "\n",
    "3. Calculate the accuracy of the nearest neighbours method on the testing data\n",
    "   using the L2 distance and 3 neighbours. Save the predictions in a file named\n",
    "   predictions_mnist_l2_3nn.txt.\n",
    "   Note: the accuracy on the testing data should be 89.8%.\n",
    "\n",
    "4. Calculate the accuracy on the testing data using the L2 distance and the number of\n",
    "   neighbours in {1, 3, 5, 7, 9}.\n",
    "   a) Plot a graphic of the accuracy for each neighbour number and save the scores in the\n",
    "      L2_accuracy.txt file.\n",
    "   b) Repeat the previous step for the L1 distance. Plot the previous graphic in the same\n",
    "      figure as the current graphic (use the L2_accuracy.txt file).\n"
   ]
  },
  {
   "cell_type": "code",
   "execution_count": 1,
   "outputs": [],
   "source": [
    "import numpy as np\n",
    "import matplotlib.pyplot as plt\n",
    "from sklearn import metrics\n",
    "\n",
    "# plt.style.use('default')\n",
    "# plt.rcParams['figure.dpi'] = 70"
   ],
   "metadata": {
    "collapsed": false,
    "pycharm": {
     "name": "#%%\n"
    }
   }
  },
  {
   "cell_type": "code",
   "execution_count": 2,
   "outputs": [],
   "source": [
    "# loading all the necessary images\n",
    "train_images = np.loadtxt('data_MNIST/data/train_images.txt')\n",
    "test_images = np.loadtxt('data_MNIST/data/test_images.txt')\n",
    "# loading the labels as integers\n",
    "train_labels = np.loadtxt('data_MNIST/data/train_labels.txt', dtype=np.int32)\n",
    "test_labels = np.loadtxt('data_MNIST/data/test_labels.txt', dtype=np.int32)"
   ],
   "metadata": {
    "collapsed": false,
    "pycharm": {
     "name": "#%%\n"
    }
   }
  },
  {
   "cell_type": "code",
   "execution_count": 3,
   "outputs": [],
   "source": [
    "class KnnClassifier:\n",
    "    def __init__(self, train_images, train_labels):\n",
    "        self.train_images = train_images\n",
    "        self.train_labels = train_labels\n",
    "\n",
    "    def calculate_dists(self, test_image, metric):\n",
    "        if metric == 'l2':\n",
    "            pwr = np.power(self.train_images - test_image, 2)\n",
    "            distances = np.sum(pwr, axis=1)\n",
    "            return np.sqrt(distances)\n",
    "        else:\n",
    "            return np.sum(np.abs(self.train_images - test_image), axis=1)\n",
    "\n",
    "    def classify_image(self, test_image, num_neighbours=3, metric='l2'):\n",
    "        distances = self.calculate_dists(test_image, metric)\n",
    "\n",
    "        # sorting the distances\n",
    "        indexes = np.argsort(distances)\n",
    "\n",
    "        # getting the first num_neighbours NN\n",
    "        neighbours = indexes[:num_neighbours]\n",
    "        n_labels = self.train_labels[neighbours]\n",
    "\n",
    "        # counting the votes\n",
    "        votes = np.bincount(n_labels)\n",
    "\n",
    "        return np.argmax(votes)"
   ],
   "metadata": {
    "collapsed": false,
    "pycharm": {
     "name": "#%%\n"
    }
   }
  },
  {
   "cell_type": "code",
   "execution_count": 4,
   "outputs": [
    {
     "data": {
      "text/plain": "7"
     },
     "execution_count": 4,
     "metadata": {},
     "output_type": "execute_result"
    }
   ],
   "source": [
    "# Ex 2)\n",
    "classifier = KnnClassifier(train_images, train_labels)\n",
    "classifier.classify_image(test_images[10], 3, 'l2')"
   ],
   "metadata": {
    "collapsed": false,
    "pycharm": {
     "name": "#%%\n"
    }
   }
  },
  {
   "cell_type": "code",
   "execution_count": 5,
   "outputs": [
    {
     "data": {
      "text/plain": "<matplotlib.image.AxesImage at 0x1ae68d05f40>"
     },
     "execution_count": 5,
     "metadata": {},
     "output_type": "execute_result"
    },
    {
     "data": {
      "text/plain": "<Figure size 432x288 with 1 Axes>",
      "image/png": "[encoded data removed]"
     },
     "metadata": {
      "needs_background": "light"
     },
     "output_type": "display_data"
    }
   ],
   "source": [
    "plt.imshow(test_images[10].astype(np.uint8).reshape((28, 28)), cmap='gray')"
   ],
   "metadata": {
    "collapsed": false,
    "pycharm": {
     "name": "#%%\n"
    }
   }
  },
  {
   "cell_type": "code",
   "execution_count": 6,
   "outputs": [
    {
     "name": "stdout",
     "output_type": "stream",
     "text": [
      "2\n"
     ]
    },
    {
     "data": {
      "text/plain": "<Figure size 432x288 with 1 Axes>",
      "image/png": "[encoded data removed]"
     },
     "metadata": {
      "needs_background": "light"
     },
     "output_type": "display_data"
    },
    {
     "name": "stdout",
     "output_type": "stream",
     "text": [
      "7\n"
     ]
    },
    {
     "data": {
      "text/plain": "<Figure size 432x288 with 1 Axes>",
      "image/png": "[encoded data removed]"
     },
     "metadata": {
      "needs_background": "light"
     },
     "output_type": "display_data"
    },
    {
     "name": "stdout",
     "output_type": "stream",
     "text": [
      "3\n"
     ]
    },
    {
     "data": {
      "text/plain": "<Figure size 432x288 with 1 Axes>",
      "image/png": "[encoded data removed]"
     },
     "metadata": {
      "needs_background": "light"
     },
     "output_type": "display_data"
    },
    {
     "name": "stdout",
     "output_type": "stream",
     "text": [
      "1\n"
     ]
    },
    {
     "data": {
      "text/plain": "<Figure size 432x288 with 1 Axes>",
      "image/png": "[encoded data removed]"
     },
     "metadata": {
      "needs_background": "light"
     },
     "output_type": "display_data"
    },
    {
     "name": "stdout",
     "output_type": "stream",
     "text": [
      "2\n"
     ]
    },
    {
     "data": {
      "text/plain": "<Figure size 432x288 with 1 Axes>",
      "image/png": "[encoded data removed]"
     },
     "metadata": {
      "needs_background": "light"
     },
     "output_type": "display_data"
    }
   ],
   "source": [
    "for i in range(5):\n",
    "    prediction = classifier.classify_image(test_images[i], 3, 'l2')\n",
    "    print(prediction)\n",
    "\n",
    "    train_images[i].reshape((28, 28))\n",
    "    plt.imshow(test_images[i].astype(np.uint8).reshape((28,28)), cmap='gray')\n",
    "    plt.show()"
   ],
   "metadata": {
    "collapsed": false,
    "pycharm": {
     "name": "#%%\n"
    }
   }
  },
  {
   "cell_type": "code",
   "execution_count": 7,
   "outputs": [
    {
     "name": "stdout",
     "output_type": "stream",
     "text": [
      "0.898\n"
     ]
    }
   ],
   "source": [
    "# Ex 3)\n",
    "y_pred = np.zeros(test_images.shape[0])\n",
    "\n",
    "for index, image in enumerate(test_images):\n",
    "    y_pred[index] = classifier.classify_image(image)\n",
    "\n",
    "print(metrics.accuracy_score(test_labels, y_pred))\n",
    "\n",
    "np.savetxt('predictions_mnist_l2_3nn.txt', y_pred)"
   ],
   "metadata": {
    "collapsed": false,
    "pycharm": {
     "name": "#%%\n"
    }
   }
  },
  {
   "cell_type": "code",
   "execution_count": 8,
   "outputs": [
    {
     "name": "stdout",
     "output_type": "stream",
     "text": [
      "1 0.884\n",
      "3 0.898\n",
      "5 0.896\n",
      "7 0.88\n",
      "9 0.88\n"
     ]
    },
    {
     "data": {
      "text/plain": "<Figure size 432x288 with 1 Axes>",
      "image/png": "[encoded data removed]"
     },
     "metadata": {
      "needs_background": "light"
     },
     "output_type": "display_data"
    }
   ],
   "source": [
    "# Ex 4)\n",
    "x = [1, 3, 5, 7, 9]\n",
    "accuraciesL2 = []\n",
    "for num in x:\n",
    "    y_pred = np.zeros(test_images.shape[0])\n",
    "\n",
    "    for index, image in enumerate(test_images):\n",
    "        y_pred[index] = classifier.classify_image(image, num_neighbours=num)\n",
    "\n",
    "    accuracy = metrics.accuracy_score(test_labels, y_pred)\n",
    "    print(num, accuracy)\n",
    "    accuraciesL2.append(accuracy)\n",
    "\n",
    "plt.plot(x, accuraciesL2)\n",
    "plt.show()\n",
    "\n",
    "np.savetxt('L2_accuracy.txt', accuraciesL2)"
   ],
   "metadata": {
    "collapsed": false,
    "pycharm": {
     "name": "#%%\n"
    }
   }
  },
  {
   "cell_type": "code",
   "execution_count": 9,
   "outputs": [
    {
     "data": {
      "text/plain": "<Figure size 432x288 with 1 Axes>",
      "image/png": "[encoded data removed]"
     },
     "metadata": {
      "needs_background": "light"
     },
     "output_type": "display_data"
    }
   ],
   "source": [
    "x = [1, 3, 5, 7, 9]\n",
    "accuraciesL1 = []\n",
    "for num in x:\n",
    "    y_pred = np.zeros(test_images.shape[0])\n",
    "\n",
    "    for index, image in enumerate(test_images):\n",
    "        y_pred[index] = classifier.classify_image(image, num_neighbours=num, metric='l1')\n",
    "\n",
    "    accuraciesL1.append(metrics.accuracy_score(test_labels, y_pred))\n",
    "\n",
    "accuraciesL2 = np.loadtxt('L2_accuracy.txt')\n",
    "\n",
    "plt.plot(x, accuraciesL1)\n",
    "plt.plot(x, accuraciesL2)\n",
    "plt.legend(['L1', 'L2'])\n",
    "plt.xlabel('number of neighbours')\n",
    "plt.ylabel('accuracy')\n",
    "plt.show()\n",
    "\n",
    "np.savetxt('L1_accuracy.txt', accuraciesL1)"
   ],
   "metadata": {
    "collapsed": false,
    "pycharm": {
     "name": "#%%\n"
    }
   }
  }
 ],
 "metadata": {
  "kernelspec": {
   "display_name": "Python 3",
   "language": "python",
   "name": "python3"
  },
  "language_info": {
   "codemirror_mode": {
    "name": "ipython",
    "version": 2
   },
   "file_extension": ".py",
   "mimetype": "text/x-python",
   "name": "python",
   "nbconvert_exporter": "python",
   "pygments_lexer": "ipython2",
   "version": "2.7.6"
  }
 },
 "nbformat": 4,
 "nbformat_minor": 0
}