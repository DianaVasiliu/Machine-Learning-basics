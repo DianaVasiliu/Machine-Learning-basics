{
 "cells": [
  {
   "cell_type": "markdown",
   "metadata": {
    "collapsed": true,
    "pycharm": {
     "name": "#%% md\n"
    }
   },
   "source": [
    "## EXERCISE\n",
    "1.  You are given the following training data, representing pairs of the height (cm) of a person and its label\n",
    "\n",
    "    `[(160, F), (165, F), (155, F), (172, F), (175, M), (180, M), (177, M), (190, M)]`\n",
    "\n",
    "    where $F$ = female and $M$ = male.\n",
    "\n",
    "   We split the continuous variable (the height) in 4 subintervals: 150-160, 161-170, 171-180, 181-190.\n",
    "   Calculate the probability that, having a person of 178cm, it will be a female or a male, using the Bayes rule.\n",
    "\n",
    "## Solution:\n",
    "\n",
    "We mark the subintervals as it follows:\n",
    "\n",
    "$(150-160) = A$\n",
    "\n",
    "$(161-170) = B$\n",
    "\n",
    "$(171-180) = C$\n",
    "\n",
    "$(181-190) = D$\n",
    "\n",
    "We know that:\n",
    "\n",
    "  |    Subinterval    |    Number of persons   |\n",
    "  |:-----------------:|:----------------------:|\n",
    "          A           |            2\n",
    "          B           |            1\n",
    "          C           |            4\n",
    "          D           |            1\n",
    "\n",
    "We must calculate $P(F|C)$ and $P(M|C)$.\n",
    "\n",
    "But,\n",
    "\n",
    "$P(F) = P(M) = \\frac{4}{8} = \\frac{1}{2} = 0.5$\n",
    "\n",
    "$P(C) = \\frac{4}{8} = \\frac{1}{2} = 0.5$\n",
    "\n",
    "$P(M|C) = \\frac{P(C|M) \\cdot P(M)}{P(C)} = P(C|M)$\n",
    "\n",
    "$P(F|C) = \\frac{P(C|F) \\cdot P(F)}{P(C)} = P(C|F)$\n",
    "\n",
    "So,\n",
    "\n",
    "$P(C|M) = \\frac{3}{4} = 0.75 \\rightarrow$ 3 of the 4 persons in the $C$ interval are males\n",
    "\n",
    "$P(C|F) = \\frac{1}{4} = 0.25 \\rightarrow$ 1 of the 4 persons in the $C$ interval is female\n",
    "\n"
   ]
  }
 ],
 "metadata": {
  "kernelspec": {
   "display_name": "Python 3",
   "language": "python",
   "name": "python3"
  },
  "language_info": {
   "codemirror_mode": {
    "name": "ipython",
    "version": 3
   },
   "file_extension": ".py",
   "mimetype": "text/x-python",
   "name": "python",
   "nbconvert_exporter": "python",
   "pygments_lexer": "ipython3",
   "version": "3.8.5"
  }
 },
 "nbformat": 4,
 "nbformat_minor": 1
}
